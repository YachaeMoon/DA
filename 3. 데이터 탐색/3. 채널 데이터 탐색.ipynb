{
 "cells": [
  {
   "cell_type": "code",
   "execution_count": 502,
   "metadata": {},
   "outputs": [],
   "source": [
    "import pandas as pd\n",
    "import re #정규표현식 전처리\n",
    "import matplotlib.pyplot as plt #시각화"
   ]
  },
  {
   "cell_type": "code",
   "execution_count": null,
   "metadata": {},
   "outputs": [],
   "source": [
    "from matplotlib import font_manager, rc #한글폰트\n",
    "font_name = font_manager.FontProperties(fname=\"c:/Windows/Fonts/malgun.ttf\").get_name()\n",
    "rc('font', family=font_name)"
   ]
  },
  {
   "cell_type": "code",
   "execution_count": 180,
   "metadata": {},
   "outputs": [],
   "source": [
    "channel = pd.read_csv(\"C:\\\\Users\\\\userpc\\\\00_Data\\\\LG\\\\2. 데이터 전처리\\\\channel_pgm.csv\",\n",
    "                     encoding='cp949', index_col=0)"
   ]
  },
  {
   "cell_type": "code",
   "execution_count": 181,
   "metadata": {},
   "outputs": [],
   "source": [
    "channel.reset_index(drop=True, inplace=True)"
   ]
  },
  {
   "cell_type": "code",
   "execution_count": 182,
   "metadata": {},
   "outputs": [
    {
     "data": {
      "text/html": [
       "<div>\n",
       "<style scoped>\n",
       "    .dataframe tbody tr th:only-of-type {\n",
       "        vertical-align: middle;\n",
       "    }\n",
       "\n",
       "    .dataframe tbody tr th {\n",
       "        vertical-align: top;\n",
       "    }\n",
       "\n",
       "    .dataframe thead th {\n",
       "        text-align: right;\n",
       "    }\n",
       "</style>\n",
       "<table border=\"1\" class=\"dataframe\">\n",
       "  <thead>\n",
       "    <tr style=\"text-align: right;\">\n",
       "      <th></th>\n",
       "      <th>subsr</th>\n",
       "      <th>chnl_nm</th>\n",
       "      <th>use_tms</th>\n",
       "      <th>pgm_nm</th>\n",
       "      <th>SMRY</th>\n",
       "      <th>ACTR_DISP</th>\n",
       "      <th>datetime</th>\n",
       "      <th>day</th>\n",
       "      <th>hour</th>\n",
       "    </tr>\n",
       "  </thead>\n",
       "  <tbody>\n",
       "    <tr>\n",
       "      <th>0</th>\n",
       "      <td>65062000</td>\n",
       "      <td>무비플러스</td>\n",
       "      <td>4</td>\n",
       "      <td>무비플러스 가격인하</td>\n",
       "      <td>NaN</td>\n",
       "      <td>NaN</td>\n",
       "      <td>2024-01-06 09:20:47</td>\n",
       "      <td>6</td>\n",
       "      <td>9</td>\n",
       "    </tr>\n",
       "    <tr>\n",
       "      <th>1</th>\n",
       "      <td>60156000</td>\n",
       "      <td>무비플러스</td>\n",
       "      <td>5</td>\n",
       "      <td>무비플러스 가격인하</td>\n",
       "      <td>NaN</td>\n",
       "      <td>NaN</td>\n",
       "      <td>2024-01-06 20:19:34</td>\n",
       "      <td>6</td>\n",
       "      <td>20</td>\n",
       "    </tr>\n",
       "    <tr>\n",
       "      <th>2</th>\n",
       "      <td>66277000</td>\n",
       "      <td>무비플러스</td>\n",
       "      <td>13</td>\n",
       "      <td>무비플러스 가격인하</td>\n",
       "      <td>NaN</td>\n",
       "      <td>NaN</td>\n",
       "      <td>2024-01-06 20:09:56</td>\n",
       "      <td>6</td>\n",
       "      <td>20</td>\n",
       "    </tr>\n",
       "    <tr>\n",
       "      <th>3</th>\n",
       "      <td>64005000</td>\n",
       "      <td>무비플러스</td>\n",
       "      <td>1</td>\n",
       "      <td>무비플러스 가격인하</td>\n",
       "      <td>NaN</td>\n",
       "      <td>NaN</td>\n",
       "      <td>2024-01-06 20:26:58</td>\n",
       "      <td>6</td>\n",
       "      <td>20</td>\n",
       "    </tr>\n",
       "    <tr>\n",
       "      <th>4</th>\n",
       "      <td>65263000</td>\n",
       "      <td>무비플러스</td>\n",
       "      <td>6</td>\n",
       "      <td>무비플러스 가격인하</td>\n",
       "      <td>NaN</td>\n",
       "      <td>NaN</td>\n",
       "      <td>2024-01-06 05:00:57</td>\n",
       "      <td>6</td>\n",
       "      <td>5</td>\n",
       "    </tr>\n",
       "  </tbody>\n",
       "</table>\n",
       "</div>"
      ],
      "text/plain": [
       "      subsr chnl_nm  use_tms      pgm_nm SMRY ACTR_DISP             datetime  \\\n",
       "0  65062000   무비플러스        4  무비플러스 가격인하  NaN       NaN  2024-01-06 09:20:47   \n",
       "1  60156000   무비플러스        5  무비플러스 가격인하  NaN       NaN  2024-01-06 20:19:34   \n",
       "2  66277000   무비플러스       13  무비플러스 가격인하  NaN       NaN  2024-01-06 20:09:56   \n",
       "3  64005000   무비플러스        1  무비플러스 가격인하  NaN       NaN  2024-01-06 20:26:58   \n",
       "4  65263000   무비플러스        6  무비플러스 가격인하  NaN       NaN  2024-01-06 05:00:57   \n",
       "\n",
       "   day  hour  \n",
       "0    6     9  \n",
       "1    6    20  \n",
       "2    6    20  \n",
       "3    6    20  \n",
       "4    6     5  "
      ]
     },
     "execution_count": 182,
     "metadata": {},
     "output_type": "execute_result"
    }
   ],
   "source": [
    "channel.head()"
   ]
  },
  {
   "cell_type": "markdown",
   "metadata": {},
   "source": [
    "# 데이터 전처리"
   ]
  },
  {
   "cell_type": "markdown",
   "metadata": {},
   "source": [
    "### 1. 시청 시간이 1분 미만인 데이터 삭제"
   ]
  },
  {
   "cell_type": "code",
   "execution_count": 183,
   "metadata": {},
   "outputs": [
    {
     "data": {
      "text/html": [
       "<div>\n",
       "<style scoped>\n",
       "    .dataframe tbody tr th:only-of-type {\n",
       "        vertical-align: middle;\n",
       "    }\n",
       "\n",
       "    .dataframe tbody tr th {\n",
       "        vertical-align: top;\n",
       "    }\n",
       "\n",
       "    .dataframe thead th {\n",
       "        text-align: right;\n",
       "    }\n",
       "</style>\n",
       "<table border=\"1\" class=\"dataframe\">\n",
       "  <thead>\n",
       "    <tr style=\"text-align: right;\">\n",
       "      <th></th>\n",
       "      <th>subsr</th>\n",
       "      <th>chnl_nm</th>\n",
       "      <th>use_tms</th>\n",
       "      <th>pgm_nm</th>\n",
       "      <th>SMRY</th>\n",
       "      <th>ACTR_DISP</th>\n",
       "      <th>datetime</th>\n",
       "      <th>day</th>\n",
       "      <th>hour</th>\n",
       "    </tr>\n",
       "  </thead>\n",
       "  <tbody>\n",
       "    <tr>\n",
       "      <th>0</th>\n",
       "      <td>65062000</td>\n",
       "      <td>무비플러스</td>\n",
       "      <td>4</td>\n",
       "      <td>무비플러스 가격인하</td>\n",
       "      <td>NaN</td>\n",
       "      <td>NaN</td>\n",
       "      <td>2024-01-06 09:20:47</td>\n",
       "      <td>6</td>\n",
       "      <td>9</td>\n",
       "    </tr>\n",
       "    <tr>\n",
       "      <th>1</th>\n",
       "      <td>60156000</td>\n",
       "      <td>무비플러스</td>\n",
       "      <td>5</td>\n",
       "      <td>무비플러스 가격인하</td>\n",
       "      <td>NaN</td>\n",
       "      <td>NaN</td>\n",
       "      <td>2024-01-06 20:19:34</td>\n",
       "      <td>6</td>\n",
       "      <td>20</td>\n",
       "    </tr>\n",
       "    <tr>\n",
       "      <th>2</th>\n",
       "      <td>66277000</td>\n",
       "      <td>무비플러스</td>\n",
       "      <td>13</td>\n",
       "      <td>무비플러스 가격인하</td>\n",
       "      <td>NaN</td>\n",
       "      <td>NaN</td>\n",
       "      <td>2024-01-06 20:09:56</td>\n",
       "      <td>6</td>\n",
       "      <td>20</td>\n",
       "    </tr>\n",
       "    <tr>\n",
       "      <th>3</th>\n",
       "      <td>64005000</td>\n",
       "      <td>무비플러스</td>\n",
       "      <td>1</td>\n",
       "      <td>무비플러스 가격인하</td>\n",
       "      <td>NaN</td>\n",
       "      <td>NaN</td>\n",
       "      <td>2024-01-06 20:26:58</td>\n",
       "      <td>6</td>\n",
       "      <td>20</td>\n",
       "    </tr>\n",
       "    <tr>\n",
       "      <th>4</th>\n",
       "      <td>65263000</td>\n",
       "      <td>무비플러스</td>\n",
       "      <td>6</td>\n",
       "      <td>무비플러스 가격인하</td>\n",
       "      <td>NaN</td>\n",
       "      <td>NaN</td>\n",
       "      <td>2024-01-06 05:00:57</td>\n",
       "      <td>6</td>\n",
       "      <td>5</td>\n",
       "    </tr>\n",
       "    <tr>\n",
       "      <th>...</th>\n",
       "      <td>...</td>\n",
       "      <td>...</td>\n",
       "      <td>...</td>\n",
       "      <td>...</td>\n",
       "      <td>...</td>\n",
       "      <td>...</td>\n",
       "      <td>...</td>\n",
       "      <td>...</td>\n",
       "      <td>...</td>\n",
       "    </tr>\n",
       "    <tr>\n",
       "      <th>74189</th>\n",
       "      <td>65129000</td>\n",
       "      <td>롯데홈쇼핑</td>\n",
       "      <td>7</td>\n",
       "      <td>김나운의 요리조리</td>\n",
       "      <td>NaN</td>\n",
       "      <td>NaN</td>\n",
       "      <td>2024-01-31 06:47:25</td>\n",
       "      <td>31</td>\n",
       "      <td>6</td>\n",
       "    </tr>\n",
       "    <tr>\n",
       "      <th>74190</th>\n",
       "      <td>64448000</td>\n",
       "      <td>롯데홈쇼핑</td>\n",
       "      <td>40</td>\n",
       "      <td>김나운의 요리조리</td>\n",
       "      <td>NaN</td>\n",
       "      <td>NaN</td>\n",
       "      <td>2024-01-31 22:12:22</td>\n",
       "      <td>31</td>\n",
       "      <td>22</td>\n",
       "    </tr>\n",
       "    <tr>\n",
       "      <th>74192</th>\n",
       "      <td>65955000</td>\n",
       "      <td>이벤트TV</td>\n",
       "      <td>8</td>\n",
       "      <td>유찬의 가요를 부탁해(129회)</td>\n",
       "      <td>NaN</td>\n",
       "      <td>NaN</td>\n",
       "      <td>2024-01-31 20:01:17</td>\n",
       "      <td>31</td>\n",
       "      <td>20</td>\n",
       "    </tr>\n",
       "    <tr>\n",
       "      <th>74193</th>\n",
       "      <td>62769000</td>\n",
       "      <td>이벤트TV</td>\n",
       "      <td>0</td>\n",
       "      <td>유찬의 가요를 부탁해(129회)</td>\n",
       "      <td>NaN</td>\n",
       "      <td>NaN</td>\n",
       "      <td>2024-01-31 20:39:01</td>\n",
       "      <td>31</td>\n",
       "      <td>20</td>\n",
       "    </tr>\n",
       "    <tr>\n",
       "      <th>74194</th>\n",
       "      <td>65497000</td>\n",
       "      <td>MBC</td>\n",
       "      <td>23</td>\n",
       "      <td>푸른백세 어영차 바다야</td>\n",
       "      <td>NaN</td>\n",
       "      <td>NaN</td>\n",
       "      <td>2024-01-31 03:35:02</td>\n",
       "      <td>31</td>\n",
       "      <td>3</td>\n",
       "    </tr>\n",
       "  </tbody>\n",
       "</table>\n",
       "<p>50819 rows × 9 columns</p>\n",
       "</div>"
      ],
      "text/plain": [
       "          subsr chnl_nm  use_tms             pgm_nm SMRY ACTR_DISP  \\\n",
       "0      65062000   무비플러스        4         무비플러스 가격인하  NaN       NaN   \n",
       "1      60156000   무비플러스        5         무비플러스 가격인하  NaN       NaN   \n",
       "2      66277000   무비플러스       13         무비플러스 가격인하  NaN       NaN   \n",
       "3      64005000   무비플러스        1         무비플러스 가격인하  NaN       NaN   \n",
       "4      65263000   무비플러스        6         무비플러스 가격인하  NaN       NaN   \n",
       "...         ...     ...      ...                ...  ...       ...   \n",
       "74189  65129000   롯데홈쇼핑        7          김나운의 요리조리  NaN       NaN   \n",
       "74190  64448000   롯데홈쇼핑       40          김나운의 요리조리  NaN       NaN   \n",
       "74192  65955000   이벤트TV        8  유찬의 가요를 부탁해(129회)  NaN       NaN   \n",
       "74193  62769000   이벤트TV        0  유찬의 가요를 부탁해(129회)  NaN       NaN   \n",
       "74194  65497000     MBC       23       푸른백세 어영차 바다야  NaN       NaN   \n",
       "\n",
       "                  datetime  day  hour  \n",
       "0      2024-01-06 09:20:47    6     9  \n",
       "1      2024-01-06 20:19:34    6    20  \n",
       "2      2024-01-06 20:09:56    6    20  \n",
       "3      2024-01-06 20:26:58    6    20  \n",
       "4      2024-01-06 05:00:57    6     5  \n",
       "...                    ...  ...   ...  \n",
       "74189  2024-01-31 06:47:25   31     6  \n",
       "74190  2024-01-31 22:12:22   31    22  \n",
       "74192  2024-01-31 20:01:17   31    20  \n",
       "74193  2024-01-31 20:39:01   31    20  \n",
       "74194  2024-01-31 03:35:02   31     3  \n",
       "\n",
       "[50819 rows x 9 columns]"
      ]
     },
     "execution_count": 183,
     "metadata": {},
     "output_type": "execute_result"
    }
   ],
   "source": [
    "drop_1m_channel = channel[channel['use_tms'] < 60]\n",
    "drop_1m_channel"
   ]
  },
  {
   "cell_type": "markdown",
   "metadata": {},
   "source": [
    "아니 5만개나 되면 어쩌자는거야"
   ]
  },
  {
   "cell_type": "code",
   "execution_count": 184,
   "metadata": {},
   "outputs": [],
   "source": [
    "# 원본에서 삭제\n",
    "channel = channel.drop(drop_1m_channel.index, axis=0)"
   ]
  },
  {
   "cell_type": "code",
   "execution_count": 185,
   "metadata": {},
   "outputs": [],
   "source": [
    "# 인덱스 초기화\n",
    "channel.reset_index(drop=True, inplace=True)"
   ]
  },
  {
   "cell_type": "code",
   "execution_count": 186,
   "metadata": {},
   "outputs": [
    {
     "data": {
      "text/html": [
       "<div>\n",
       "<style scoped>\n",
       "    .dataframe tbody tr th:only-of-type {\n",
       "        vertical-align: middle;\n",
       "    }\n",
       "\n",
       "    .dataframe tbody tr th {\n",
       "        vertical-align: top;\n",
       "    }\n",
       "\n",
       "    .dataframe thead th {\n",
       "        text-align: right;\n",
       "    }\n",
       "</style>\n",
       "<table border=\"1\" class=\"dataframe\">\n",
       "  <thead>\n",
       "    <tr style=\"text-align: right;\">\n",
       "      <th></th>\n",
       "      <th>subsr</th>\n",
       "      <th>chnl_nm</th>\n",
       "      <th>use_tms</th>\n",
       "      <th>pgm_nm</th>\n",
       "      <th>SMRY</th>\n",
       "      <th>ACTR_DISP</th>\n",
       "      <th>datetime</th>\n",
       "      <th>day</th>\n",
       "      <th>hour</th>\n",
       "    </tr>\n",
       "  </thead>\n",
       "  <tbody>\n",
       "    <tr>\n",
       "      <th>0</th>\n",
       "      <td>65431000</td>\n",
       "      <td>시네마천국</td>\n",
       "      <td>1264</td>\n",
       "      <td>아기공룡 둘리 : 얼음별 대모험 ...</td>\n",
       "      <td>우리나라 만화계의 독보적인 캐릭터 [아기공룡 둘리]의 활약이 코믹하게 묘사된 극장용...</td>\n",
       "      <td>박영남</td>\n",
       "      <td>2024-01-06 10:31:24</td>\n",
       "      <td>6</td>\n",
       "      <td>10</td>\n",
       "    </tr>\n",
       "    <tr>\n",
       "      <th>1</th>\n",
       "      <td>60510000</td>\n",
       "      <td>OCN</td>\n",
       "      <td>4433</td>\n",
       "      <td>데시벨</td>\n",
       "      <td>도심 한복판에서 벌어지는 사운드 테러 액션 오늘 반드시 이 폭발을 막아야만 한다!</td>\n",
       "      <td>김래원,이종석</td>\n",
       "      <td>2024-01-06 18:21:30</td>\n",
       "      <td>6</td>\n",
       "      <td>18</td>\n",
       "    </tr>\n",
       "    <tr>\n",
       "      <th>2</th>\n",
       "      <td>61488000</td>\n",
       "      <td>OCN</td>\n",
       "      <td>137</td>\n",
       "      <td>데시벨</td>\n",
       "      <td>도심 한복판에서 벌어지는 사운드 테러 액션 오늘 반드시 이 폭발을 막아야만 한다!</td>\n",
       "      <td>김래원,이종석</td>\n",
       "      <td>2024-01-06 18:52:12</td>\n",
       "      <td>6</td>\n",
       "      <td>18</td>\n",
       "    </tr>\n",
       "    <tr>\n",
       "      <th>3</th>\n",
       "      <td>63352000</td>\n",
       "      <td>OCN무비즈</td>\n",
       "      <td>801</td>\n",
       "      <td>라이언 일병 구하기</td>\n",
       "      <td>NaN</td>\n",
       "      <td>톰 행크스,맷 데이먼,에드워드 번즈</td>\n",
       "      <td>2024-01-06 20:42:39</td>\n",
       "      <td>6</td>\n",
       "      <td>20</td>\n",
       "    </tr>\n",
       "    <tr>\n",
       "      <th>4</th>\n",
       "      <td>65062000</td>\n",
       "      <td>OCN무비즈</td>\n",
       "      <td>100</td>\n",
       "      <td>라이언 일병 구하기</td>\n",
       "      <td>NaN</td>\n",
       "      <td>톰 행크스,맷 데이먼,에드워드 번즈</td>\n",
       "      <td>2024-01-06 22:38:23</td>\n",
       "      <td>6</td>\n",
       "      <td>22</td>\n",
       "    </tr>\n",
       "  </tbody>\n",
       "</table>\n",
       "</div>"
      ],
      "text/plain": [
       "      subsr chnl_nm  use_tms                 pgm_nm  \\\n",
       "0  65431000   시네마천국     1264  아기공룡 둘리 : 얼음별 대모험 ...   \n",
       "1  60510000     OCN     4433                    데시벨   \n",
       "2  61488000     OCN      137                    데시벨   \n",
       "3  63352000  OCN무비즈      801             라이언 일병 구하기   \n",
       "4  65062000  OCN무비즈      100             라이언 일병 구하기   \n",
       "\n",
       "                                                SMRY            ACTR_DISP  \\\n",
       "0  우리나라 만화계의 독보적인 캐릭터 [아기공룡 둘리]의 활약이 코믹하게 묘사된 극장용...                  박영남   \n",
       "1      도심 한복판에서 벌어지는 사운드 테러 액션 오늘 반드시 이 폭발을 막아야만 한다!              김래원,이종석   \n",
       "2      도심 한복판에서 벌어지는 사운드 테러 액션 오늘 반드시 이 폭발을 막아야만 한다!              김래원,이종석   \n",
       "3                                                NaN  톰 행크스,맷 데이먼,에드워드 번즈   \n",
       "4                                                NaN  톰 행크스,맷 데이먼,에드워드 번즈   \n",
       "\n",
       "              datetime  day  hour  \n",
       "0  2024-01-06 10:31:24    6    10  \n",
       "1  2024-01-06 18:21:30    6    18  \n",
       "2  2024-01-06 18:52:12    6    18  \n",
       "3  2024-01-06 20:42:39    6    20  \n",
       "4  2024-01-06 22:38:23    6    22  "
      ]
     },
     "execution_count": 186,
     "metadata": {},
     "output_type": "execute_result"
    }
   ],
   "source": [
    "channel.head()"
   ]
  },
  {
   "cell_type": "markdown",
   "metadata": {},
   "source": [
    "### 2. 표시가 다른 같은 프로그램 일원화"
   ]
  },
  {
   "cell_type": "code",
   "execution_count": 187,
   "metadata": {},
   "outputs": [
    {
     "data": {
      "text/plain": [
       "0        아기공룡 둘리 : 얼음별 대모험 ...\n",
       "1                          데시벨\n",
       "2                          데시벨\n",
       "3                   라이언 일병 구하기\n",
       "4                   라이언 일병 구하기\n",
       "                 ...          \n",
       "23371             소문난 건강법(35회)\n",
       "23372             소문난 건강법(35회)\n",
       "23373             소문난 건강법(35회)\n",
       "23374                김나운의 요리조리\n",
       "23375               선정적 문구 차단중\n",
       "Name: pgm_nm, Length: 23376, dtype: object"
      ]
     },
     "execution_count": 187,
     "metadata": {},
     "output_type": "execute_result"
    }
   ],
   "source": [
    "channel['pgm_nm']"
   ]
  },
  {
   "cell_type": "code",
   "execution_count": 188,
   "metadata": {},
   "outputs": [],
   "source": [
    "# 프로그램 이름 정규화 함수\n",
    "def normalize_program_name(name):\n",
    "    # 회차 제거 (모범택시 2(10회) -> 모범택시 2)\n",
    "    name = re.sub(r'\\(\\d+회\\)', '', name)\n",
    "    # 대괄호 제거 ([설 특집 영화]비공식작전 -> 비공식작전)\n",
    "    name = re.sub(r'\\[.*?\\]', '', name).strip()\n",
    "    return name"
   ]
  },
  {
   "cell_type": "code",
   "execution_count": 189,
   "metadata": {},
   "outputs": [],
   "source": [
    "# 프로그램 이름 정규화 적용\n",
    "channel['pgm_nm'] = channel['pgm_nm'].apply(normalize_program_name)"
   ]
  },
  {
   "cell_type": "code",
   "execution_count": 178,
   "metadata": {},
   "outputs": [
    {
     "data": {
      "text/html": [
       "<div>\n",
       "<style scoped>\n",
       "    .dataframe tbody tr th:only-of-type {\n",
       "        vertical-align: middle;\n",
       "    }\n",
       "\n",
       "    .dataframe tbody tr th {\n",
       "        vertical-align: top;\n",
       "    }\n",
       "\n",
       "    .dataframe thead th {\n",
       "        text-align: right;\n",
       "    }\n",
       "</style>\n",
       "<table border=\"1\" class=\"dataframe\">\n",
       "  <thead>\n",
       "    <tr style=\"text-align: right;\">\n",
       "      <th></th>\n",
       "      <th>subsr</th>\n",
       "      <th>chnl_nm</th>\n",
       "      <th>use_tms</th>\n",
       "      <th>pgm_nm</th>\n",
       "      <th>SMRY</th>\n",
       "      <th>ACTR_DISP</th>\n",
       "      <th>datetime</th>\n",
       "      <th>day</th>\n",
       "      <th>hour</th>\n",
       "      <th>category</th>\n",
       "      <th>normalized_program</th>\n",
       "    </tr>\n",
       "  </thead>\n",
       "  <tbody>\n",
       "  </tbody>\n",
       "</table>\n",
       "</div>"
      ],
      "text/plain": [
       "Empty DataFrame\n",
       "Columns: [subsr, chnl_nm, use_tms, pgm_nm, SMRY, ACTR_DISP, datetime, day, hour, category, normalized_program]\n",
       "Index: []"
      ]
     },
     "execution_count": 178,
     "metadata": {},
     "output_type": "execute_result"
    }
   ],
   "source": [
    "channel[channel['pgm_nm'].str.contains('설 특집')"
   ]
  },
  {
   "cell_type": "markdown",
   "metadata": {},
   "source": [
    "# 데이터 탐색"
   ]
  },
  {
   "cell_type": "markdown",
   "metadata": {},
   "source": [
    "### 1. 가장 많이 시청한 카테고리, 채널"
   ]
  },
  {
   "cell_type": "code",
   "execution_count": 190,
   "metadata": {},
   "outputs": [],
   "source": [
    "# 채널 카테고리 분류\n",
    "category_map = {\n",
    "    '지상파/종편' : ['KBS1', 'KBS2', 'MBC', 'SBS', 'JTBC', 'TV조선', 'MBN', 'EBS플러스2'],\n",
    "    '지역채널' : ['OBS', 'OBS W', 'CJB', 'JTV', 'TJB', 'KNN', 'KBC', 'TBC', 'tbsTV', 'G1'],\n",
    "    '뉴스': ['BBC뉴스', 'CNN', '이데일리TV', 'CTS', '채널뷰', '블룸버그TV'],\n",
    "    '스포츠': ['KBS스포츠', '골프&PBA', '스포골프헬스', '스크린골프존','스포 프라임2', '스포티비온2', '스포티비프라임', 'SBS골프', 'SBS골프2', 'SBS스포츠', 'J골프&스포츠', 'JTBC골프', \n",
    "            'MBC스포츠', '스카이스포츠', '유로스포츠', '빌리어즈TV','IB스포츠'],\n",
    "    '여성/홈쇼핑' : ['ENA스토리', 'tvN스토리', 'KBS스토리', 'JTBC4', 'CJ온스타일+', '롯데홈쇼핑', 'GS SHOP', 'NS홈쇼핑', '라이프타임','동아TV','패션N'],\n",
    "    '예능' : ['ENA플레이', 'SBS플러스', '채널와이드', '채널MX', '채널S', '채널S플러스', 'E채널', '코미디TV','더라이프', 'iHQ'],\n",
    "    '영화/드라마' : ['ENA', 'Dramax', 'OCN', 'OCN무비즈', 'OCN무비즈2', '채널나우', '채널에버', '채널액션', '월드클래식무비', \n",
    "                '캐치온1', '캐치온2', '더무비', '디스토리', '엠플렉스', '아시아 M', 'AXN', '시네마천국', '스크린', '무비플러스',\n",
    "               '씨네프', 'CNTV',],\n",
    "    '정치': ['국회방송', '국방TV', 'KTV'],\n",
    "    '취미/음악' : ['국악방송', 'K바둑', '바둑TV', 'GMTV','폴라리스TV','아이넷','FTV', '이벤트TV', 'OGN'], \n",
    "    '키즈': ['대교노리Q', '더키즈', '부메랑', '애니맥스', '애니박스', '애니원', '애니플러스', '카툰네트워크', '투니버스', \n",
    "                  '브라보키즈', '어린이TV', '샌드박스+', '재능방송'],\n",
    "    '종교' : ['BBS불교방송', '가톨릭평화방송', 'STB상생방송', '원음방송', '인디필름','CBS'],\n",
    "    '해외': ['중화TV', '채널J', 'NHK월드재팬', '채널차이나', 'NHK프리미엄', '아시아N', 'VIKI'],\n",
    "    '성인' : ['미드나잇', '디자이어TV', '플레이보이TV', '핑크하우스']\n",
    "}"
   ]
  },
  {
   "cell_type": "code",
   "execution_count": 191,
   "metadata": {},
   "outputs": [],
   "source": [
    "# 채널 이름에 해당하는 카테고리를 찾는 함수\n",
    "def find_category(channel_name):\n",
    "    for category, channels in category_map.items():\n",
    "        if channel_name in channels:\n",
    "            return category\n",
    "    return '기타'  # 카테고리 맵에 없는 채널의 경우 '기타'로 분류"
   ]
  },
  {
   "cell_type": "code",
   "execution_count": 192,
   "metadata": {},
   "outputs": [],
   "source": [
    "# 'channel' DataFrame에 'Category' 컬럼 추가\n",
    "channel['category'] = channel['chnl_nm'].apply(find_category)"
   ]
  },
  {
   "cell_type": "markdown",
   "metadata": {},
   "source": [
    "#### channel_1 : 카테고리와 채널만 가져다놓은 DF"
   ]
  },
  {
   "cell_type": "code",
   "execution_count": 193,
   "metadata": {},
   "outputs": [
    {
     "data": {
      "text/html": [
       "<div>\n",
       "<style scoped>\n",
       "    .dataframe tbody tr th:only-of-type {\n",
       "        vertical-align: middle;\n",
       "    }\n",
       "\n",
       "    .dataframe tbody tr th {\n",
       "        vertical-align: top;\n",
       "    }\n",
       "\n",
       "    .dataframe thead th {\n",
       "        text-align: right;\n",
       "    }\n",
       "</style>\n",
       "<table border=\"1\" class=\"dataframe\">\n",
       "  <thead>\n",
       "    <tr style=\"text-align: right;\">\n",
       "      <th></th>\n",
       "      <th>category</th>\n",
       "      <th>chnl_nm</th>\n",
       "    </tr>\n",
       "  </thead>\n",
       "  <tbody>\n",
       "    <tr>\n",
       "      <th>0</th>\n",
       "      <td>영화/드라마</td>\n",
       "      <td>시네마천국</td>\n",
       "    </tr>\n",
       "    <tr>\n",
       "      <th>1</th>\n",
       "      <td>영화/드라마</td>\n",
       "      <td>OCN</td>\n",
       "    </tr>\n",
       "    <tr>\n",
       "      <th>2</th>\n",
       "      <td>영화/드라마</td>\n",
       "      <td>OCN</td>\n",
       "    </tr>\n",
       "    <tr>\n",
       "      <th>3</th>\n",
       "      <td>영화/드라마</td>\n",
       "      <td>OCN무비즈</td>\n",
       "    </tr>\n",
       "    <tr>\n",
       "      <th>4</th>\n",
       "      <td>영화/드라마</td>\n",
       "      <td>OCN무비즈</td>\n",
       "    </tr>\n",
       "    <tr>\n",
       "      <th>...</th>\n",
       "      <td>...</td>\n",
       "      <td>...</td>\n",
       "    </tr>\n",
       "    <tr>\n",
       "      <th>23371</th>\n",
       "      <td>지상파/종편</td>\n",
       "      <td>TV조선</td>\n",
       "    </tr>\n",
       "    <tr>\n",
       "      <th>23372</th>\n",
       "      <td>지상파/종편</td>\n",
       "      <td>TV조선</td>\n",
       "    </tr>\n",
       "    <tr>\n",
       "      <th>23373</th>\n",
       "      <td>지상파/종편</td>\n",
       "      <td>TV조선</td>\n",
       "    </tr>\n",
       "    <tr>\n",
       "      <th>23374</th>\n",
       "      <td>여성/홈쇼핑</td>\n",
       "      <td>롯데홈쇼핑</td>\n",
       "    </tr>\n",
       "    <tr>\n",
       "      <th>23375</th>\n",
       "      <td>성인</td>\n",
       "      <td>디자이어TV</td>\n",
       "    </tr>\n",
       "  </tbody>\n",
       "</table>\n",
       "<p>23376 rows × 2 columns</p>\n",
       "</div>"
      ],
      "text/plain": [
       "      category chnl_nm\n",
       "0       영화/드라마   시네마천국\n",
       "1       영화/드라마     OCN\n",
       "2       영화/드라마     OCN\n",
       "3       영화/드라마  OCN무비즈\n",
       "4       영화/드라마  OCN무비즈\n",
       "...        ...     ...\n",
       "23371   지상파/종편    TV조선\n",
       "23372   지상파/종편    TV조선\n",
       "23373   지상파/종편    TV조선\n",
       "23374   여성/홈쇼핑   롯데홈쇼핑\n",
       "23375       성인  디자이어TV\n",
       "\n",
       "[23376 rows x 2 columns]"
      ]
     },
     "execution_count": 193,
     "metadata": {},
     "output_type": "execute_result"
    }
   ],
   "source": [
    "channel_1 = channel[['category', 'chnl_nm']]\n",
    "channel_1"
   ]
  },
  {
   "cell_type": "code",
   "execution_count": 194,
   "metadata": {
    "scrolled": true
   },
   "outputs": [
    {
     "data": {
      "text/plain": [
       "영화/드라마       13497\n",
       "지상파/종편        2322\n",
       "여성/홈쇼핑        1758\n",
       "취미/음악         1258\n",
       "종교            1064\n",
       "스포츠           1007\n",
       "예능             779\n",
       "해외             611\n",
       "어린이 및 패밀리      491\n",
       "지역채널           197\n",
       "성인             174\n",
       "기타             114\n",
       "뉴스              82\n",
       "정치              22\n",
       "Name: category, dtype: int64"
      ]
     },
     "execution_count": 194,
     "metadata": {},
     "output_type": "execute_result"
    }
   ],
   "source": [
    "channel_1.category.value_counts()"
   ]
  },
  {
   "cell_type": "code",
   "execution_count": 539,
   "metadata": {
    "scrolled": true
   },
   "outputs": [
    {
     "data": {
      "text/plain": [
       "category  chnl_nm\n",
       "영화/드라마    OCN무비즈2    1821\n",
       "          OCN        1773\n",
       "          OCN무비즈     1472\n",
       "          엠플렉스       1423\n",
       "          더무비        1355\n",
       "          스크린        1264\n",
       "          AXN        1063\n",
       "          아시아 M       768\n",
       "          시네마천국       658\n",
       "          채널액션        467\n",
       "          채널나우        356\n",
       "          월드클래식무비     334\n",
       "          씨네프         327\n",
       "          무비플러스       142\n",
       "          CNTV        113\n",
       "          캐치온2         89\n",
       "          캐치온1         48\n",
       "          디스토리         15\n",
       "          ENA           6\n",
       "          Dramax        2\n",
       "          채널에버          1\n",
       "dtype: int64"
      ]
     },
     "execution_count": 539,
     "metadata": {},
     "output_type": "execute_result"
    }
   ],
   "source": [
    "channel_1[channel_1['category']=='영화/드라마'].value_counts()"
   ]
  },
  {
   "cell_type": "markdown",
   "metadata": {},
   "source": [
    "### 2. 가장 많이 본 프로그램"
   ]
  },
  {
   "cell_type": "code",
   "execution_count": 380,
   "metadata": {},
   "outputs": [
    {
     "data": {
      "text/plain": [
       "낭만닥터 김사부               1074\n",
       "모범택시 2                  922\n",
       "비공식작전                   562\n",
       "미스터 션샤인                 544\n",
       "소문난 건강법                 516\n",
       "제25회 농심신라면배 세계바둑최강전     408\n",
       "스파이                     389\n",
       "푸른백세 어영차 바다야            356\n",
       "타짜                      300\n",
       "런던 해즈 폴른                282\n",
       "Name: pgm_nm, dtype: int64"
      ]
     },
     "execution_count": 380,
     "metadata": {},
     "output_type": "execute_result"
    }
   ],
   "source": [
    "# 전체 채널에서 가장 많이 본 프로그램 30개\n",
    "channel['pgm_nm'].value_counts().head(10)"
   ]
  },
  {
   "cell_type": "code",
   "execution_count": 377,
   "metadata": {},
   "outputs": [],
   "source": [
    "# 리스트로 만듦\n",
    "top_30_pgm = channel['pgm_nm'].value_counts().head(10).index"
   ]
  },
  {
   "cell_type": "code",
   "execution_count": 378,
   "metadata": {},
   "outputs": [],
   "source": [
    "# 프로그램이 있는 데이터만 뽑아서 데이터프레임 생성\n",
    "top_30_pgm_channel = channel[channel['pgm_nm'].isin(top_30_pgm)]"
   ]
  },
  {
   "cell_type": "code",
   "execution_count": 379,
   "metadata": {
    "scrolled": true
   },
   "outputs": [
    {
     "data": {
      "text/html": [
       "<div>\n",
       "<style scoped>\n",
       "    .dataframe tbody tr th:only-of-type {\n",
       "        vertical-align: middle;\n",
       "    }\n",
       "\n",
       "    .dataframe tbody tr th {\n",
       "        vertical-align: top;\n",
       "    }\n",
       "\n",
       "    .dataframe thead th {\n",
       "        text-align: right;\n",
       "    }\n",
       "</style>\n",
       "<table border=\"1\" class=\"dataframe\">\n",
       "  <thead>\n",
       "    <tr style=\"text-align: right;\">\n",
       "      <th></th>\n",
       "      <th>category</th>\n",
       "      <th>chnl_nm</th>\n",
       "      <th>pgm_nm</th>\n",
       "    </tr>\n",
       "  </thead>\n",
       "  <tbody>\n",
       "    <tr>\n",
       "      <th>11</th>\n",
       "      <td>영화/드라마</td>\n",
       "      <td>AXN</td>\n",
       "      <td>낭만닥터 김사부</td>\n",
       "    </tr>\n",
       "    <tr>\n",
       "      <th>14</th>\n",
       "      <td>지상파/종편</td>\n",
       "      <td>TV조선</td>\n",
       "      <td>소문난 건강법</td>\n",
       "    </tr>\n",
       "    <tr>\n",
       "      <th>39</th>\n",
       "      <td>지상파/종편</td>\n",
       "      <td>MBC</td>\n",
       "      <td>푸른백세 어영차 바다야</td>\n",
       "    </tr>\n",
       "    <tr>\n",
       "      <th>130</th>\n",
       "      <td>영화/드라마</td>\n",
       "      <td>OCN무비즈2</td>\n",
       "      <td>스파이</td>\n",
       "    </tr>\n",
       "    <tr>\n",
       "      <th>160</th>\n",
       "      <td>영화/드라마</td>\n",
       "      <td>AXN</td>\n",
       "      <td>모범택시 2</td>\n",
       "    </tr>\n",
       "    <tr>\n",
       "      <th>218</th>\n",
       "      <td>여성/홈쇼핑</td>\n",
       "      <td>ENA스토리</td>\n",
       "      <td>모범택시 2</td>\n",
       "    </tr>\n",
       "    <tr>\n",
       "      <th>377</th>\n",
       "      <td>영화/드라마</td>\n",
       "      <td>OCN무비즈</td>\n",
       "      <td>스파이</td>\n",
       "    </tr>\n",
       "    <tr>\n",
       "      <th>456</th>\n",
       "      <td>영화/드라마</td>\n",
       "      <td>OCN</td>\n",
       "      <td>스파이</td>\n",
       "    </tr>\n",
       "    <tr>\n",
       "      <th>464</th>\n",
       "      <td>예능</td>\n",
       "      <td>SBS플러스</td>\n",
       "      <td>모범택시 2</td>\n",
       "    </tr>\n",
       "    <tr>\n",
       "      <th>646</th>\n",
       "      <td>영화/드라마</td>\n",
       "      <td>OCN무비즈2</td>\n",
       "      <td>타짜</td>\n",
       "    </tr>\n",
       "    <tr>\n",
       "      <th>653</th>\n",
       "      <td>영화/드라마</td>\n",
       "      <td>엠플렉스</td>\n",
       "      <td>런던 해즈 폴른</td>\n",
       "    </tr>\n",
       "    <tr>\n",
       "      <th>659</th>\n",
       "      <td>영화/드라마</td>\n",
       "      <td>OCN무비즈</td>\n",
       "      <td>타짜</td>\n",
       "    </tr>\n",
       "    <tr>\n",
       "      <th>846</th>\n",
       "      <td>영화/드라마</td>\n",
       "      <td>OCN</td>\n",
       "      <td>타짜</td>\n",
       "    </tr>\n",
       "    <tr>\n",
       "      <th>1033</th>\n",
       "      <td>영화/드라마</td>\n",
       "      <td>스크린</td>\n",
       "      <td>런던 해즈 폴른</td>\n",
       "    </tr>\n",
       "    <tr>\n",
       "      <th>1080</th>\n",
       "      <td>영화/드라마</td>\n",
       "      <td>캐치온1</td>\n",
       "      <td>비공식작전</td>\n",
       "    </tr>\n",
       "    <tr>\n",
       "      <th>1189</th>\n",
       "      <td>영화/드라마</td>\n",
       "      <td>더무비</td>\n",
       "      <td>런던 해즈 폴른</td>\n",
       "    </tr>\n",
       "    <tr>\n",
       "      <th>1557</th>\n",
       "      <td>영화/드라마</td>\n",
       "      <td>아시아 M</td>\n",
       "      <td>스파이</td>\n",
       "    </tr>\n",
       "    <tr>\n",
       "      <th>1757</th>\n",
       "      <td>영화/드라마</td>\n",
       "      <td>엠플렉스</td>\n",
       "      <td>스파이</td>\n",
       "    </tr>\n",
       "    <tr>\n",
       "      <th>7724</th>\n",
       "      <td>기타</td>\n",
       "      <td>채널VOD</td>\n",
       "      <td>푸른백세 어영차 바다야</td>\n",
       "    </tr>\n",
       "    <tr>\n",
       "      <th>9210</th>\n",
       "      <td>영화/드라마</td>\n",
       "      <td>월드클래식무비</td>\n",
       "      <td>런던 해즈 폴른</td>\n",
       "    </tr>\n",
       "    <tr>\n",
       "      <th>9306</th>\n",
       "      <td>예능</td>\n",
       "      <td>채널S</td>\n",
       "      <td>모범택시 2</td>\n",
       "    </tr>\n",
       "    <tr>\n",
       "      <th>9312</th>\n",
       "      <td>지상파/종편</td>\n",
       "      <td>TV조선</td>\n",
       "      <td>비공식작전</td>\n",
       "    </tr>\n",
       "    <tr>\n",
       "      <th>9385</th>\n",
       "      <td>영화/드라마</td>\n",
       "      <td>OCN</td>\n",
       "      <td>비공식작전</td>\n",
       "    </tr>\n",
       "    <tr>\n",
       "      <th>9424</th>\n",
       "      <td>여성/홈쇼핑</td>\n",
       "      <td>tvN스토리</td>\n",
       "      <td>미스터 션샤인</td>\n",
       "    </tr>\n",
       "    <tr>\n",
       "      <th>9483</th>\n",
       "      <td>취미/음악</td>\n",
       "      <td>바둑TV</td>\n",
       "      <td>제25회 농심신라면배 세계바둑최강전</td>\n",
       "    </tr>\n",
       "    <tr>\n",
       "      <th>9568</th>\n",
       "      <td>해외</td>\n",
       "      <td>채널J</td>\n",
       "      <td>낭만닥터 김사부</td>\n",
       "    </tr>\n",
       "    <tr>\n",
       "      <th>14263</th>\n",
       "      <td>영화/드라마</td>\n",
       "      <td>OCN</td>\n",
       "      <td>런던 해즈 폴른</td>\n",
       "    </tr>\n",
       "    <tr>\n",
       "      <th>17676</th>\n",
       "      <td>영화/드라마</td>\n",
       "      <td>OCN무비즈</td>\n",
       "      <td>런던 해즈 폴른</td>\n",
       "    </tr>\n",
       "    <tr>\n",
       "      <th>17845</th>\n",
       "      <td>영화/드라마</td>\n",
       "      <td>OCN무비즈</td>\n",
       "      <td>비공식작전</td>\n",
       "    </tr>\n",
       "    <tr>\n",
       "      <th>18003</th>\n",
       "      <td>영화/드라마</td>\n",
       "      <td>씨네프</td>\n",
       "      <td>런던 해즈 폴른</td>\n",
       "    </tr>\n",
       "  </tbody>\n",
       "</table>\n",
       "</div>"
      ],
      "text/plain": [
       "      category  chnl_nm               pgm_nm\n",
       "11      영화/드라마      AXN             낭만닥터 김사부\n",
       "14      지상파/종편     TV조선              소문난 건강법\n",
       "39      지상파/종편      MBC         푸른백세 어영차 바다야\n",
       "130     영화/드라마  OCN무비즈2                  스파이\n",
       "160     영화/드라마      AXN               모범택시 2\n",
       "218     여성/홈쇼핑   ENA스토리               모범택시 2\n",
       "377     영화/드라마   OCN무비즈                  스파이\n",
       "456     영화/드라마      OCN                  스파이\n",
       "464         예능   SBS플러스               모범택시 2\n",
       "646     영화/드라마  OCN무비즈2                   타짜\n",
       "653     영화/드라마     엠플렉스             런던 해즈 폴른\n",
       "659     영화/드라마   OCN무비즈                   타짜\n",
       "846     영화/드라마      OCN                   타짜\n",
       "1033    영화/드라마      스크린             런던 해즈 폴른\n",
       "1080    영화/드라마     캐치온1                비공식작전\n",
       "1189    영화/드라마      더무비             런던 해즈 폴른\n",
       "1557    영화/드라마    아시아 M                  스파이\n",
       "1757    영화/드라마     엠플렉스                  스파이\n",
       "7724        기타    채널VOD         푸른백세 어영차 바다야\n",
       "9210    영화/드라마  월드클래식무비             런던 해즈 폴른\n",
       "9306        예능      채널S               모범택시 2\n",
       "9312    지상파/종편     TV조선                비공식작전\n",
       "9385    영화/드라마      OCN                비공식작전\n",
       "9424    여성/홈쇼핑   tvN스토리              미스터 션샤인\n",
       "9483     취미/음악     바둑TV  제25회 농심신라면배 세계바둑최강전\n",
       "9568        해외      채널J             낭만닥터 김사부\n",
       "14263   영화/드라마      OCN             런던 해즈 폴른\n",
       "17676   영화/드라마   OCN무비즈             런던 해즈 폴른\n",
       "17845   영화/드라마   OCN무비즈                비공식작전\n",
       "18003   영화/드라마      씨네프             런던 해즈 폴른"
      ]
     },
     "execution_count": 379,
     "metadata": {},
     "output_type": "execute_result"
    }
   ],
   "source": [
    "# 중복 제거하고 [[카테고리, 채널이름, 프로그램이름]]만 뽑아서 보여주기\n",
    "top_30_pgm_channel.drop_duplicates(subset=['pgm_nm', 'chnl_nm', 'category'])[['category', 'chnl_nm', 'pgm_nm']]"
   ]
  },
  {
   "cell_type": "code",
   "execution_count": 204,
   "metadata": {
    "scrolled": true
   },
   "outputs": [
    {
     "data": {
      "text/plain": [
       "낭만닥터 김사부    734\n",
       "스파이         389\n",
       "비공식작전       388\n",
       "모범택시 2      329\n",
       "타짜          300\n",
       "런던 해즈 폴른    282\n",
       "언포게터블       264\n",
       "더 이퀄라이저     236\n",
       "황해          207\n",
       "리볼버         198\n",
       "Name: pgm_nm, dtype: int64"
      ]
     },
     "execution_count": 204,
     "metadata": {},
     "output_type": "execute_result"
    }
   ],
   "source": [
    "#'영화/드라마' 채널에서 가장 많이 본 프로그램 10개\n",
    "channel[channel.category=='영화/드라마']['pgm_nm'].value_counts().head(10)"
   ]
  },
  {
   "cell_type": "markdown",
   "metadata": {},
   "source": [
    "### 3. 가장 오래 시청한 채널, 프로그램"
   ]
  },
  {
   "cell_type": "code",
   "execution_count": 368,
   "metadata": {},
   "outputs": [
    {
     "data": {
      "text/html": [
       "<div>\n",
       "<style scoped>\n",
       "    .dataframe tbody tr th:only-of-type {\n",
       "        vertical-align: middle;\n",
       "    }\n",
       "\n",
       "    .dataframe tbody tr th {\n",
       "        vertical-align: top;\n",
       "    }\n",
       "\n",
       "    .dataframe thead th {\n",
       "        text-align: right;\n",
       "    }\n",
       "</style>\n",
       "<table border=\"1\" class=\"dataframe\">\n",
       "  <thead>\n",
       "    <tr style=\"text-align: right;\">\n",
       "      <th></th>\n",
       "      <th>category</th>\n",
       "      <th>chnl_nm</th>\n",
       "      <th>pgm_nm</th>\n",
       "      <th>use_tms</th>\n",
       "    </tr>\n",
       "  </thead>\n",
       "  <tbody>\n",
       "    <tr>\n",
       "      <th>0</th>\n",
       "      <td>영화/드라마</td>\n",
       "      <td>시네마천국</td>\n",
       "      <td>아기공룡 둘리 : 얼음별 대모험 ...</td>\n",
       "      <td>1264</td>\n",
       "    </tr>\n",
       "    <tr>\n",
       "      <th>1</th>\n",
       "      <td>영화/드라마</td>\n",
       "      <td>OCN</td>\n",
       "      <td>데시벨</td>\n",
       "      <td>4433</td>\n",
       "    </tr>\n",
       "    <tr>\n",
       "      <th>2</th>\n",
       "      <td>영화/드라마</td>\n",
       "      <td>OCN</td>\n",
       "      <td>데시벨</td>\n",
       "      <td>137</td>\n",
       "    </tr>\n",
       "    <tr>\n",
       "      <th>3</th>\n",
       "      <td>영화/드라마</td>\n",
       "      <td>OCN무비즈</td>\n",
       "      <td>라이언 일병 구하기</td>\n",
       "      <td>801</td>\n",
       "    </tr>\n",
       "    <tr>\n",
       "      <th>4</th>\n",
       "      <td>영화/드라마</td>\n",
       "      <td>OCN무비즈</td>\n",
       "      <td>라이언 일병 구하기</td>\n",
       "      <td>100</td>\n",
       "    </tr>\n",
       "  </tbody>\n",
       "</table>\n",
       "</div>"
      ],
      "text/plain": [
       "  category chnl_nm                 pgm_nm  use_tms\n",
       "0   영화/드라마   시네마천국  아기공룡 둘리 : 얼음별 대모험 ...     1264\n",
       "1   영화/드라마     OCN                    데시벨     4433\n",
       "2   영화/드라마     OCN                    데시벨      137\n",
       "3   영화/드라마  OCN무비즈             라이언 일병 구하기      801\n",
       "4   영화/드라마  OCN무비즈             라이언 일병 구하기      100"
      ]
     },
     "execution_count": 368,
     "metadata": {},
     "output_type": "execute_result"
    }
   ],
   "source": [
    "channel_3 = channel[['category', 'chnl_nm', 'pgm_nm', 'use_tms']]\n",
    "channel_3.head()"
   ]
  },
  {
   "cell_type": "code",
   "execution_count": 337,
   "metadata": {},
   "outputs": [],
   "source": [
    "# 프로그램 이름으로 그룹화\n",
    "group_pgm = channel_3.groupby('pgm_nm')\n",
    "\n",
    "# 각 프로그램별 사용 시간 합계, 내림차순 정렬\n",
    "for program_name, group_data in group_pgm:\n",
    "    result = group_pgm['use_tms'].agg(['sum', 'mean']).reset_index()\n",
    "    result_sorted = result.sort_values(by='sum', ascending=False)"
   ]
  },
  {
   "cell_type": "code",
   "execution_count": 375,
   "metadata": {},
   "outputs": [
    {
     "data": {
      "text/html": [
       "<div>\n",
       "<style scoped>\n",
       "    .dataframe tbody tr th:only-of-type {\n",
       "        vertical-align: middle;\n",
       "    }\n",
       "\n",
       "    .dataframe tbody tr th {\n",
       "        vertical-align: top;\n",
       "    }\n",
       "\n",
       "    .dataframe thead th {\n",
       "        text-align: right;\n",
       "    }\n",
       "</style>\n",
       "<table border=\"1\" class=\"dataframe\">\n",
       "  <thead>\n",
       "    <tr style=\"text-align: right;\">\n",
       "      <th></th>\n",
       "      <th>pgm_nm</th>\n",
       "      <th>sum</th>\n",
       "      <th>mean</th>\n",
       "    </tr>\n",
       "  </thead>\n",
       "  <tbody>\n",
       "    <tr>\n",
       "      <th>134</th>\n",
       "      <td>낭만닥터 김사부</td>\n",
       "      <td>1962839</td>\n",
       "      <td>1827.596834</td>\n",
       "    </tr>\n",
       "    <tr>\n",
       "      <th>215</th>\n",
       "      <td>모범택시 2</td>\n",
       "      <td>1567880</td>\n",
       "      <td>1700.520607</td>\n",
       "    </tr>\n",
       "    <tr>\n",
       "      <th>226</th>\n",
       "      <td>미스터 션샤인</td>\n",
       "      <td>1125522</td>\n",
       "      <td>2068.974265</td>\n",
       "    </tr>\n",
       "    <tr>\n",
       "      <th>302</th>\n",
       "      <td>소문난 건강법</td>\n",
       "      <td>832562</td>\n",
       "      <td>1613.492248</td>\n",
       "    </tr>\n",
       "    <tr>\n",
       "      <th>263</th>\n",
       "      <td>비공식작전</td>\n",
       "      <td>748325</td>\n",
       "      <td>1331.539146</td>\n",
       "    </tr>\n",
       "    <tr>\n",
       "      <th>514</th>\n",
       "      <td>푸른백세 어영차 바다야</td>\n",
       "      <td>609362</td>\n",
       "      <td>1711.691011</td>\n",
       "    </tr>\n",
       "    <tr>\n",
       "      <th>437</th>\n",
       "      <td>제25회 농심신라면배 세계바둑최강전</td>\n",
       "      <td>567675</td>\n",
       "      <td>1391.360294</td>\n",
       "    </tr>\n",
       "    <tr>\n",
       "      <th>314</th>\n",
       "      <td>스파이</td>\n",
       "      <td>542681</td>\n",
       "      <td>1395.066838</td>\n",
       "    </tr>\n",
       "    <tr>\n",
       "      <th>417</th>\n",
       "      <td>유찬의 가요를 부탁해</td>\n",
       "      <td>501978</td>\n",
       "      <td>2804.346369</td>\n",
       "    </tr>\n",
       "    <tr>\n",
       "      <th>185</th>\n",
       "      <td>런던 해즈 폴른</td>\n",
       "      <td>476894</td>\n",
       "      <td>1691.113475</td>\n",
       "    </tr>\n",
       "  </tbody>\n",
       "</table>\n",
       "</div>"
      ],
      "text/plain": [
       "                  pgm_nm      sum         mean\n",
       "134             낭만닥터 김사부  1962839  1827.596834\n",
       "215               모범택시 2  1567880  1700.520607\n",
       "226              미스터 션샤인  1125522  2068.974265\n",
       "302              소문난 건강법   832562  1613.492248\n",
       "263                비공식작전   748325  1331.539146\n",
       "514         푸른백세 어영차 바다야   609362  1711.691011\n",
       "437  제25회 농심신라면배 세계바둑최강전   567675  1391.360294\n",
       "314                  스파이   542681  1395.066838\n",
       "417          유찬의 가요를 부탁해   501978  2804.346369\n",
       "185             런던 해즈 폴른   476894  1691.113475"
      ]
     },
     "execution_count": 375,
     "metadata": {},
     "output_type": "execute_result"
    }
   ],
   "source": [
    "result_sum_sorted.head(10)"
   ]
  },
  {
   "cell_type": "markdown",
   "metadata": {},
   "source": [
    "- mean이 상대적으로 작으면 : 여러 사람이 시청\n",
    "- mean이 상대적으로 크면 : 한 사람이 많이 시청"
   ]
  },
  {
   "cell_type": "code",
   "execution_count": 376,
   "metadata": {
    "scrolled": true
   },
   "outputs": [
    {
     "data": {
      "text/html": [
       "<div>\n",
       "<style scoped>\n",
       "    .dataframe tbody tr th:only-of-type {\n",
       "        vertical-align: middle;\n",
       "    }\n",
       "\n",
       "    .dataframe tbody tr th {\n",
       "        vertical-align: top;\n",
       "    }\n",
       "\n",
       "    .dataframe thead th {\n",
       "        text-align: right;\n",
       "    }\n",
       "</style>\n",
       "<table border=\"1\" class=\"dataframe\">\n",
       "  <thead>\n",
       "    <tr style=\"text-align: right;\">\n",
       "      <th></th>\n",
       "      <th>use_tms</th>\n",
       "      <th>category</th>\n",
       "    </tr>\n",
       "    <tr>\n",
       "      <th>chnl_nm</th>\n",
       "      <th></th>\n",
       "      <th></th>\n",
       "    </tr>\n",
       "  </thead>\n",
       "  <tbody>\n",
       "    <tr>\n",
       "      <th>OCN</th>\n",
       "      <td>2895280</td>\n",
       "      <td>영화/드라마</td>\n",
       "    </tr>\n",
       "    <tr>\n",
       "      <th>OCN무비즈2</th>\n",
       "      <td>2320074</td>\n",
       "      <td>영화/드라마</td>\n",
       "    </tr>\n",
       "    <tr>\n",
       "      <th>OCN무비즈</th>\n",
       "      <td>2074199</td>\n",
       "      <td>영화/드라마</td>\n",
       "    </tr>\n",
       "    <tr>\n",
       "      <th>더무비</th>\n",
       "      <td>1853477</td>\n",
       "      <td>영화/드라마</td>\n",
       "    </tr>\n",
       "    <tr>\n",
       "      <th>스크린</th>\n",
       "      <td>1720695</td>\n",
       "      <td>영화/드라마</td>\n",
       "    </tr>\n",
       "    <tr>\n",
       "      <th>AXN</th>\n",
       "      <td>1692700</td>\n",
       "      <td>영화/드라마</td>\n",
       "    </tr>\n",
       "    <tr>\n",
       "      <th>엠플렉스</th>\n",
       "      <td>1677235</td>\n",
       "      <td>영화/드라마</td>\n",
       "    </tr>\n",
       "    <tr>\n",
       "      <th>TV조선</th>\n",
       "      <td>1427113</td>\n",
       "      <td>지상파/종편</td>\n",
       "    </tr>\n",
       "    <tr>\n",
       "      <th>tvN스토리</th>\n",
       "      <td>1335958</td>\n",
       "      <td>여성/홈쇼핑</td>\n",
       "    </tr>\n",
       "    <tr>\n",
       "      <th>인디필름</th>\n",
       "      <td>1294035</td>\n",
       "      <td>종교</td>\n",
       "    </tr>\n",
       "  </tbody>\n",
       "</table>\n",
       "</div>"
      ],
      "text/plain": [
       "         use_tms category\n",
       "chnl_nm                  \n",
       "OCN      2895280   영화/드라마\n",
       "OCN무비즈2  2320074   영화/드라마\n",
       "OCN무비즈   2074199   영화/드라마\n",
       "더무비      1853477   영화/드라마\n",
       "스크린      1720695   영화/드라마\n",
       "AXN      1692700   영화/드라마\n",
       "엠플렉스     1677235   영화/드라마\n",
       "TV조선     1427113   지상파/종편\n",
       "tvN스토리   1335958   여성/홈쇼핑\n",
       "인디필름     1294035       종교"
      ]
     },
     "execution_count": 376,
     "metadata": {},
     "output_type": "execute_result"
    }
   ],
   "source": [
    "# 채널 이름으로 그룹화\n",
    "group_chnl = channel_3.groupby('chnl_nm')\n",
    "\n",
    "# 각 채널별사용 횟수의 합계, category 컬럼 첫 번째 값\n",
    "group_chnl = group_chnl.agg({\n",
    "    'use_tms': 'sum',\n",
    "    'category': 'first'\n",
    "}).sort_values(by='use_tms', ascending=False).head(10)\n",
    "\n",
    "group_chnl"
   ]
  },
  {
   "cell_type": "markdown",
   "metadata": {},
   "source": [
    "### 4. 가장 인기있었던 배우"
   ]
  },
  {
   "cell_type": "code",
   "execution_count": 398,
   "metadata": {},
   "outputs": [
    {
     "data": {
      "text/plain": [
       "0                        박영남\n",
       "1                    김래원,이종석\n",
       "2                    김래원,이종석\n",
       "3        톰 행크스,맷 데이먼,에드워드 번즈\n",
       "4        톰 행크스,맷 데이먼,에드워드 번즈\n",
       "                ...         \n",
       "23371                    NaN\n",
       "23372                    NaN\n",
       "23373                    NaN\n",
       "23374                    NaN\n",
       "23375                    NaN\n",
       "Name: ACTR_DISP, Length: 23376, dtype: object"
      ]
     },
     "execution_count": 398,
     "metadata": {},
     "output_type": "execute_result"
    }
   ],
   "source": [
    "channel_4 = channel['ACTR_DISP']\n",
    "channel_4"
   ]
  },
  {
   "cell_type": "code",
   "execution_count": 406,
   "metadata": {},
   "outputs": [
    {
     "data": {
      "text/plain": [
       "0                          [박영남]\n",
       "1                     [김래원, 이종석]\n",
       "2                     [김래원, 이종석]\n",
       "3        [톰 행크스, 맷 데이먼, 에드워드 번즈]\n",
       "4        [톰 행크스, 맷 데이먼, 에드워드 번즈]\n",
       "                  ...           \n",
       "23371                        NaN\n",
       "23372                        NaN\n",
       "23373                        NaN\n",
       "23374                        NaN\n",
       "23375                        NaN\n",
       "Name: ACTR_DISP, Length: 23376, dtype: object"
      ]
     },
     "execution_count": 406,
     "metadata": {},
     "output_type": "execute_result"
    }
   ],
   "source": [
    "# 컴마로 구분된 문자열 리스트 변환\n",
    "channel_4 = channel['ACTR_DISP'].str.split(',')\n",
    "channel_4"
   ]
  },
  {
   "cell_type": "code",
   "execution_count": 408,
   "metadata": {},
   "outputs": [
    {
     "data": {
      "text/plain": [
       "0        박영남\n",
       "1        김래원\n",
       "1        이종석\n",
       "2        김래원\n",
       "2        이종석\n",
       "        ... \n",
       "23371    NaN\n",
       "23372    NaN\n",
       "23373    NaN\n",
       "23374    NaN\n",
       "23375    NaN\n",
       "Name: ACTR_DISP, Length: 85185, dtype: object"
      ]
     },
     "execution_count": 408,
     "metadata": {},
     "output_type": "execute_result"
    }
   ],
   "source": [
    "# 이름별로 개별 행 생성\n",
    "expanded_names = channel_4.explode()\n",
    "expanded_names"
   ]
  },
  {
   "cell_type": "code",
   "execution_count": 414,
   "metadata": {},
   "outputs": [
    {
     "data": {
      "text/plain": [
       "장혁진     1996\n",
       "유연석     1695\n",
       "김의성     1582\n",
       "주현      1159\n",
       "한석규     1135\n",
       "양세종     1074\n",
       "서...    1074\n",
       "변우민     1074\n",
       "최진호     1074\n",
       "김홍파     1074\n",
       "Name: ACTR_DISP, dtype: int64"
      ]
     },
     "execution_count": 414,
     "metadata": {},
     "output_type": "execute_result"
    }
   ],
   "source": [
    "# 이름 언급 빈도 수 계산\n",
    "name_counts = expanded_names.value_counts()\n",
    "name_counts.head(10)"
   ]
  },
  {
   "cell_type": "code",
   "execution_count": 431,
   "metadata": {},
   "outputs": [
    {
     "name": "stdout",
     "output_type": "stream",
     "text": [
      "['낭만닥터 김사부' '모범택시 2']\n",
      "['낭만닥터 김사부' '그날의 분위기' '늑대소년' '미스터 션샤인']\n",
      "['모범택시 2' '빅매치' '신년특선 OBS 시네마 빅매치' '빅매치 2부' '미스터 션샤인' '빅매치 1부']\n",
      "['낭만닥터 김사부' '조폭 마누라 2' '조폭 마누라2-돌아온전설']\n",
      "['낭만닥터 김사부' '접속 2부' '닥터봉' '접속 1부' '8월의 크리스마스' '닥터 봉']\n"
     ]
    }
   ],
   "source": [
    "# 무슨 프로그램에 나왔는지 확인\n",
    "print(channel[channel['ACTR_DISP'].str.contains('장혁진', na=False)].pgm_nm.unique())\n",
    "print(channel[channel['ACTR_DISP'].str.contains('유연석', na=False)].pgm_nm.unique())\n",
    "print(channel[channel['ACTR_DISP'].str.contains('김의성', na=False)].pgm_nm.unique())\n",
    "print(channel[channel['ACTR_DISP'].str.contains('주현', na=False)].pgm_nm.unique())\n",
    "print(channel[channel['ACTR_DISP'].str.contains('한석규', na=False)].pgm_nm.unique())"
   ]
  },
  {
   "cell_type": "markdown",
   "metadata": {},
   "source": [
    "### 5. 시간대별 채널 시청"
   ]
  },
  {
   "cell_type": "code",
   "execution_count": 434,
   "metadata": {},
   "outputs": [
    {
     "data": {
      "text/html": [
       "<div>\n",
       "<style scoped>\n",
       "    .dataframe tbody tr th:only-of-type {\n",
       "        vertical-align: middle;\n",
       "    }\n",
       "\n",
       "    .dataframe tbody tr th {\n",
       "        vertical-align: top;\n",
       "    }\n",
       "\n",
       "    .dataframe thead th {\n",
       "        text-align: right;\n",
       "    }\n",
       "</style>\n",
       "<table border=\"1\" class=\"dataframe\">\n",
       "  <thead>\n",
       "    <tr style=\"text-align: right;\">\n",
       "      <th></th>\n",
       "      <th>category</th>\n",
       "      <th>chnl_nm</th>\n",
       "      <th>hour</th>\n",
       "    </tr>\n",
       "  </thead>\n",
       "  <tbody>\n",
       "    <tr>\n",
       "      <th>0</th>\n",
       "      <td>영화/드라마</td>\n",
       "      <td>시네마천국</td>\n",
       "      <td>10</td>\n",
       "    </tr>\n",
       "    <tr>\n",
       "      <th>1</th>\n",
       "      <td>영화/드라마</td>\n",
       "      <td>OCN</td>\n",
       "      <td>18</td>\n",
       "    </tr>\n",
       "    <tr>\n",
       "      <th>2</th>\n",
       "      <td>영화/드라마</td>\n",
       "      <td>OCN</td>\n",
       "      <td>18</td>\n",
       "    </tr>\n",
       "    <tr>\n",
       "      <th>3</th>\n",
       "      <td>영화/드라마</td>\n",
       "      <td>OCN무비즈</td>\n",
       "      <td>20</td>\n",
       "    </tr>\n",
       "    <tr>\n",
       "      <th>4</th>\n",
       "      <td>영화/드라마</td>\n",
       "      <td>OCN무비즈</td>\n",
       "      <td>22</td>\n",
       "    </tr>\n",
       "    <tr>\n",
       "      <th>...</th>\n",
       "      <td>...</td>\n",
       "      <td>...</td>\n",
       "      <td>...</td>\n",
       "    </tr>\n",
       "    <tr>\n",
       "      <th>23371</th>\n",
       "      <td>지상파/종편</td>\n",
       "      <td>TV조선</td>\n",
       "      <td>18</td>\n",
       "    </tr>\n",
       "    <tr>\n",
       "      <th>23372</th>\n",
       "      <td>지상파/종편</td>\n",
       "      <td>TV조선</td>\n",
       "      <td>20</td>\n",
       "    </tr>\n",
       "    <tr>\n",
       "      <th>23373</th>\n",
       "      <td>지상파/종편</td>\n",
       "      <td>TV조선</td>\n",
       "      <td>19</td>\n",
       "    </tr>\n",
       "    <tr>\n",
       "      <th>23374</th>\n",
       "      <td>여성/홈쇼핑</td>\n",
       "      <td>롯데홈쇼핑</td>\n",
       "      <td>20</td>\n",
       "    </tr>\n",
       "    <tr>\n",
       "      <th>23375</th>\n",
       "      <td>성인</td>\n",
       "      <td>디자이어TV</td>\n",
       "      <td>22</td>\n",
       "    </tr>\n",
       "  </tbody>\n",
       "</table>\n",
       "<p>23376 rows × 3 columns</p>\n",
       "</div>"
      ],
      "text/plain": [
       "      category chnl_nm  hour\n",
       "0       영화/드라마   시네마천국    10\n",
       "1       영화/드라마     OCN    18\n",
       "2       영화/드라마     OCN    18\n",
       "3       영화/드라마  OCN무비즈    20\n",
       "4       영화/드라마  OCN무비즈    22\n",
       "...        ...     ...   ...\n",
       "23371   지상파/종편    TV조선    18\n",
       "23372   지상파/종편    TV조선    20\n",
       "23373   지상파/종편    TV조선    19\n",
       "23374   여성/홈쇼핑   롯데홈쇼핑    20\n",
       "23375       성인  디자이어TV    22\n",
       "\n",
       "[23376 rows x 3 columns]"
      ]
     },
     "execution_count": 434,
     "metadata": {},
     "output_type": "execute_result"
    }
   ],
   "source": [
    "channel_5 = channel[['category', 'chnl_nm', 'hour']]\n",
    "channel_5"
   ]
  },
  {
   "cell_type": "code",
   "execution_count": null,
   "metadata": {},
   "outputs": [],
   "source": []
  },
  {
   "cell_type": "code",
   "execution_count": 488,
   "metadata": {},
   "outputs": [
    {
     "data": {
      "text/plain": [
       "category      종교\n",
       "chnl_nm     인디필름\n",
       "hour          14\n",
       "Name: 979, dtype: object"
      ]
     },
     "execution_count": 488,
     "metadata": {},
     "output_type": "execute_result"
    }
   ],
   "source": [
    "channel_5.iloc[979]"
   ]
  },
  {
   "cell_type": "code",
   "execution_count": 439,
   "metadata": {},
   "outputs": [],
   "source": [
    "channel_5_group = channel_5.groupby(['hour'])"
   ]
  },
  {
   "cell_type": "code",
   "execution_count": 447,
   "metadata": {},
   "outputs": [
    {
     "data": {
      "text/plain": [
       "hour\n",
       "0      673\n",
       "1     1135\n",
       "2      833\n",
       "3      878\n",
       "4      607\n",
       "5      852\n",
       "6      733\n",
       "7      579\n",
       "8      799\n",
       "9      901\n",
       "10     918\n",
       "11    1256\n",
       "12     716\n",
       "13     757\n",
       "14     778\n",
       "15    1071\n",
       "16    1088\n",
       "17    1196\n",
       "18    1317\n",
       "19    1201\n",
       "20    1408\n",
       "21    1514\n",
       "22    1199\n",
       "23     967\n",
       "dtype: int64"
      ]
     },
     "execution_count": 447,
     "metadata": {},
     "output_type": "execute_result"
    }
   ],
   "source": [
    "channel_5_group.size()"
   ]
  },
  {
   "cell_type": "code",
   "execution_count": 493,
   "metadata": {},
   "outputs": [],
   "source": [
    "counts1 = channel_5[channel_5['category'] == '영화/드라마']['hour'].value_counts().sort_index()\n",
    "counts2 = channel_5[channel_5['category'] == '지상파/종편']['hour'].value_counts().sort_index()\n",
    "counts3 = channel_5[channel_5['category'] == '여성/홈쇼핑']['hour'].value_counts().sort_index()\n",
    "counts4 = channel_5[channel_5['category'] == '취미/음악']['hour'].value_counts().sort_index()\n",
    "counts5 = channel_5[channel_5['category'] == '종교']['hour'].value_counts().sort_index()\n"
   ]
  },
  {
   "cell_type": "code",
   "execution_count": 504,
   "metadata": {
    "scrolled": true
   },
   "outputs": [
    {
     "data": {
      "image/png": "[encoded data removed]",
      "text/plain": [
       "<Figure size 432x288 with 1 Axes>"
      ]
     },
     "metadata": {
      "needs_background": "light"
     },
     "output_type": "display_data"
    }
   ],
   "source": [
    "plt.plot(counts.index, counts.values)\n",
    "plt.title('시간대별 영화/드라마 시청 건수')\n",
    "plt.xlabel('시간대')\n",
    "plt.ylabel('시청 건수')\n",
    "plt.xticks(range(0, 24))\n",
    "plt.grid(True)\n",
    "plt.show()"
   ]
  },
  {
   "cell_type": "code",
   "execution_count": 515,
   "metadata": {},
   "outputs": [],
   "source": [
    "counts1 = channel_5[channel_5['category'] == '영화/드라마']['hour'].value_counts().sort_index()\n",
    "counts2 = channel_5[channel_5['category'] == '지상파/종편']['hour'].value_counts().sort_index()\n",
    "counts3 = channel_5[channel_5['category'] == '여성/홈쇼핑']['hour'].value_counts().sort_index()\n",
    "counts4 = channel_5[channel_5['category'] == '취미/음악']['hour'].value_counts().sort_index()\n",
    "counts5 = channel_5[channel_5['category'] == '종교']['hour'].value_counts().sort_index()\n",
    "counts6 = channel_5[channel_5['category'] == '스포츠']['hour'].value_counts().sort_index()\n",
    "counts7 = channel_5[channel_5['category'] == '예능']['hour'].value_counts().sort_index()\n",
    "counts8 = channel_5[channel_5['category'] == '해외']['hour'].value_counts().sort_index()\n",
    "counts9 = channel_5[channel_5['category'] == '키즈']['hour'].value_counts().sort_index()\n",
    "counts10 = channel_5[channel_5['category'] == '지역채널']['hour'].value_counts().sort_index()\n",
    "counts11 = channel_5[channel_5['category'] == '성인']['hour'].value_counts().sort_index()"
   ]
  },
  {
   "cell_type": "code",
   "execution_count": 525,
   "metadata": {},
   "outputs": [],
   "source": [
    "# 데이터프레임화\n",
    "data_frames = [] \n",
    "\n",
    "for i in range(11):\n",
    "    data_frames.append(pd.DataFrame(eval('counts' + str(i+1))))"
   ]
  },
  {
   "cell_type": "code",
   "execution_count": null,
   "metadata": {},
   "outputs": [],
   "source": [
    "plt.plot(counts1.index, counts1.values)\n",
    "plt.title('시간대별 영화/드라마 시청 건수')\n",
    "plt.xlabel('시간대')\n",
    "plt.ylabel('시청 건수')\n",
    "plt.xticks(range(0, 24))\n",
    "plt.grid(True)\n",
    "plt.show()"
   ]
  },
  {
   "cell_type": "code",
   "execution_count": 508,
   "metadata": {},
   "outputs": [
    {
     "data": {
      "image/png": "[encoded data removed]",
      "text/plain": [
       "<Figure size 432x288 with 1 Axes>"
      ]
     },
     "metadata": {
      "needs_background": "light"
     },
     "output_type": "display_data"
    }
   ],
   "source": [
    "plt.plot(counts2.index, counts2.values)\n",
    "plt.title('시간대별 지상파/종편 시청 건수')\n",
    "plt.xlabel('시간대')\n",
    "plt.ylabel('시청 건수')\n",
    "plt.xticks(range(0, 24))\n",
    "plt.grid(True)\n",
    "plt.show()"
   ]
  },
  {
   "cell_type": "code",
   "execution_count": 510,
   "metadata": {
    "scrolled": true
   },
   "outputs": [
    {
     "data": {
      "image/png": "[encoded data removed]",
      "text/plain": [
       "<Figure size 432x288 with 1 Axes>"
      ]
     },
     "metadata": {
      "needs_background": "light"
     },
     "output_type": "display_data"
    }
   ],
   "source": [
    "plt.plot(counts3.index, counts3.values)\n",
    "plt.title('시간대별 여성/홈쇼핑 시청 건수')\n",
    "plt.xlabel('시간대')\n",
    "plt.ylabel('시청 건수')\n",
    "plt.xticks(range(0, 24))\n",
    "plt.grid(True)\n",
    "plt.show()"
   ]
  },
  {
   "cell_type": "code",
   "execution_count": 530,
   "metadata": {},
   "outputs": [
    {
     "data": {
      "image/png": "[encoded data removed]",
      "text/plain": [
       "<Figure size 432x288 with 1 Axes>"
      ]
     },
     "metadata": {
      "needs_background": "light"
     },
     "output_type": "display_data"
    },
    {
     "data": {
      "image/png": "[encoded data removed]",
      "text/plain": [
       "<Figure size 432x288 with 1 Axes>"
      ]
     },
     "metadata": {
      "needs_background": "light"
     },
     "output_type": "display_data"
    },
    {
     "data": {
      "image/png": "[encoded data removed]",
      "text/plain": [
       "<Figure size 432x288 with 1 Axes>"
      ]
     },
     "metadata": {
      "needs_background": "light"
     },
     "output_type": "display_data"
    },
    {
     "data": {
      "image/png": "[encoded data removed]",
      "text/plain": [
       "<Figure size 432x288 with 1 Axes>"
      ]
     },
     "metadata": {
      "needs_background": "light"
     },
     "output_type": "display_data"
    },
    {
     "data": {
      "image/png": "[encoded data removed]",
      "text/plain": [
       "<Figure size 432x288 with 1 Axes>"
      ]
     },
     "metadata": {
      "needs_background": "light"
     },
     "output_type": "display_data"
    },
    {
     "data": {
      "image/png": "[encoded data removed]",
      "text/plain": [
       "<Figure size 432x288 with 1 Axes>"
      ]
     },
     "metadata": {
      "needs_background": "light"
     },
     "output_type": "display_data"
    },
    {
     "data": {
      "image/png": "[encoded data removed]",
      "text/plain": [
       "<Figure size 432x288 with 1 Axes>"
      ]
     },
     "metadata": {
      "needs_background": "light"
     },
     "output_type": "display_data"
    },
    {
     "data": {
      "image/png": "[encoded data removed]",
      "text/plain": [
       "<Figure size 432x288 with 1 Axes>"
      ]
     },
     "metadata": {
      "needs_background": "light"
     },
     "output_type": "display_data"
    },
    {
     "name": "stderr",
     "output_type": "stream",
     "text": [
      "C:\\Users\\userpc\\anaconda3\\lib\\site-packages\\matplotlib\\backends\\backend_agg.py:238: RuntimeWarning: Glyph 8722 missing from current font.\n",
      "  font.set_text(s, 0.0, flags=flags)\n",
      "C:\\Users\\userpc\\anaconda3\\lib\\site-packages\\matplotlib\\backends\\backend_agg.py:201: RuntimeWarning: Glyph 8722 missing from current font.\n",
      "  font.set_text(s, 0, flags=flags)\n"
     ]
    },
    {
     "data": {
      "image/png": "[encoded data removed]",
      "text/plain": [
       "<Figure size 432x288 with 1 Axes>"
      ]
     },
     "metadata": {
      "needs_background": "light"
     },
     "output_type": "display_data"
    },
    {
     "data": {
      "image/png": "[encoded data removed]",
      "text/plain": [
       "<Figure size 432x288 with 1 Axes>"
      ]
     },
     "metadata": {
      "needs_background": "light"
     },
     "output_type": "display_data"
    },
    {
     "data": {
      "image/png": "[encoded data removed]",
      "text/plain": [
       "<Figure size 432x288 with 1 Axes>"
      ]
     },
     "metadata": {
      "needs_background": "light"
     },
     "output_type": "display_data"
    }
   ],
   "source": [
    "import matplotlib.pyplot as plt\n",
    "\n",
    "# 데이터프레임과 제목 딕셔너리 생성\n",
    "dfs = {'counts1': counts1, 'counts2': counts2, 'counts3': counts3, \n",
    "      'counts4': counts4, 'counts5': counts5, 'counts6': counts6,\n",
    "      'counts7': counts7, 'counts8': counts8, 'counts9': counts9,\n",
    "      'counts10': counts10, 'counts11': counts11}\n",
    "titles = {'counts1': '시간대별 영화/드라마 시청 건수',\n",
    "          'counts2': '시간대별 지상파/종편 시청 건수',\n",
    "          'counts3': '시간대별 여성/홈쇼핑 시청 건수', \n",
    "          'counts4': '시간대별 취미/음악 시청 건수',\n",
    "          'counts5': '시간대별 종교 시청 건수',\n",
    "          'counts6': '시간대별 스포츠 시청 건수',\n",
    "          'counts7': '시간대별 예능 시청 건수',\n",
    "          'counts8': '시간대별 해외 시청 건수',\n",
    "          'counts9': '시간대별 키즈 시청 건수',\n",
    "          'counts10': '시간대별 지역채널 시청 건수',\n",
    "          'counts11': '시간대별 성인 시청 건수',\n",
    "          }\n",
    "\n",
    "# 반복문으로 그래프 그리기\n",
    "for df_name, df in dfs.items():\n",
    "    plt.plot(df.index, df.values)\n",
    "    plt.title(titles[df_name])\n",
    "    plt.xlabel('시간대')\n",
    "    plt.ylabel('시청 건수')\n",
    "    plt.xticks(range(0, 24))\n",
    "    plt.grid(True)\n",
    "    plt.show()\n"
   ]
  },
  {
   "cell_type": "code",
   "execution_count": null,
   "metadata": {},
   "outputs": [],
   "source": []
  },
  {
   "cell_type": "code",
   "execution_count": 532,
   "metadata": {},
   "outputs": [],
   "source": [
    "channel.to_csv('channel.csv')"
   ]
  }
 ],
 "metadata": {
  "kernelspec": {
   "display_name": "Python 3",
   "language": "python",
   "name": "python3"
  },
  "language_info": {
   "codemirror_mode": {
    "name": "ipython",
    "version": 3
   },
   "file_extension": ".py",
   "mimetype": "text/x-python",
   "name": "python",
   "nbconvert_exporter": "python",
   "pygments_lexer": "ipython3",
   "version": "3.8.5"
  }
 },
 "nbformat": 4,
 "nbformat_minor": 4
}
